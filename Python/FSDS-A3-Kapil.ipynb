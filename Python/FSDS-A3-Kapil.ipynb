{
 "cells": [
  {
   "cell_type": "markdown",
   "id": "7bc155df-eb26-43ab-922f-5070cb86c0e5",
   "metadata": {
    "tags": []
   },
   "source": [
    "# Assignment 3 - Dictionaries"
   ]
  },
  {
   "cell_type": "markdown",
   "id": "297770be-01ee-48ea-a13d-1af557abd204",
   "metadata": {},
   "source": [
    "### Program to count the number of items in a dictionary value that is a list"
   ]
  },
  {
   "cell_type": "code",
   "execution_count": 172,
   "id": "55056ad2-ebc2-4e62-8bea-4ee136ead216",
   "metadata": {
    "tags": []
   },
   "outputs": [
    {
     "name": "stdout",
     "output_type": "stream",
     "text": [
      "Alex: 3\n",
      "David: 2\n"
     ]
    }
   ],
   "source": [
    "info =  {'Alex': ['subj1', 'subj2', 'subj3'], 'David': ['subj1', 'subj2']}\n",
    "for k,v in info.items():\n",
    "    print(k, len(v), sep=\": \")"
   ]
  },
  {
   "cell_type": "code",
   "execution_count": null,
   "id": "60cb06b5-9c74-4d41-90ac-8b7d3aea89ae",
   "metadata": {},
   "outputs": [],
   "source": []
  },
  {
   "cell_type": "markdown",
   "id": "4c7f6871-55ad-4378-8e98-dd463a30c013",
   "metadata": {},
   "source": [
    "### Program to sort dictonary by value"
   ]
  },
  {
   "cell_type": "code",
   "execution_count": 170,
   "id": "3842c33f-0426-4b50-abb2-5b66793a8e82",
   "metadata": {
    "tags": []
   },
   "outputs": [
    {
     "name": "stdout",
     "output_type": "stream",
     "text": [
      "{'Math': 88, 'Chemistry': 87, 'Physics': 83}\n"
     ]
    }
   ],
   "source": [
    "score = {'Math':88, 'Physics':83, 'Chemistry':87}\n",
    "sorted_score = {k: score[k] for k in sorted(score, key=score.get, reverse=True)}\n",
    "print(sorted_score)"
   ]
  },
  {
   "cell_type": "code",
   "execution_count": 87,
   "id": "9d95356b-1cd9-4281-90b4-b703490e8c7c",
   "metadata": {
    "tags": []
   },
   "outputs": [],
   "source": []
  },
  {
   "cell_type": "markdown",
   "id": "791d4725-5baa-4d87-88f0-c2e62bdf61a2",
   "metadata": {},
   "source": [
    "### Program to match key values in two dictionaries"
   ]
  },
  {
   "cell_type": "code",
   "execution_count": 168,
   "id": "d217b184-1724-4f59-93b1-2db25a8d22bc",
   "metadata": {
    "tags": []
   },
   "outputs": [
    {
     "name": "stdout",
     "output_type": "stream",
     "text": [
      "The common items in the dictionaries are: {'key1': 1}\n"
     ]
    }
   ],
   "source": [
    "dict1 = {'key1': 1, 'key2': 3, 'key3': 2}\n",
    "dict2 = {'key3': 3, 'key2': 2, 'key1': 1}\n",
    "\n",
    "matching_items = {k:v for k,v in dict1.items() if k in dict2.keys() and dict2.get(k) == v}\n",
    "        \n",
    "print(f\"The common items in the dictionaries are: {matching_items}\")"
   ]
  },
  {
   "cell_type": "code",
   "execution_count": null,
   "id": "b9f2267a-ff64-4796-8862-5377b422279b",
   "metadata": {},
   "outputs": [],
   "source": []
  },
  {
   "cell_type": "markdown",
   "id": "9a69e24c-79dd-4629-9340-9637bcd71a60",
   "metadata": {},
   "source": [
    "### Program to drop empty items from a given dictionary"
   ]
  },
  {
   "cell_type": "code",
   "execution_count": 174,
   "id": "08b1d8f8-70e9-4cba-9002-ea3215e2de2a",
   "metadata": {
    "tags": []
   },
   "outputs": [
    {
     "name": "stdout",
     "output_type": "stream",
     "text": [
      "New dictionary after dropping empty items: {'c1': 'Red', 'c2': 'Green', 'c4': 'Yellow'}\n"
     ]
    }
   ],
   "source": [
    "colors = {'c1': 'Red', 'c2': 'Green', 'c3': None, 'c4':'Yellow'}\n",
    "\n",
    "result = {k:v for k,v in colors.items() if v is not None}\n",
    "print(f\"New dictionary after dropping empty items: {result}\")"
   ]
  },
  {
   "cell_type": "code",
   "execution_count": null,
   "id": "df84a3e8-f2f6-4fa5-83bf-82e5832a91be",
   "metadata": {},
   "outputs": [],
   "source": []
  }
 ],
 "metadata": {
  "kernelspec": {
   "display_name": "Python 3 (ipykernel)",
   "language": "python",
   "name": "python3"
  },
  "language_info": {
   "codemirror_mode": {
    "name": "ipython",
    "version": 3
   },
   "file_extension": ".py",
   "mimetype": "text/x-python",
   "name": "python",
   "nbconvert_exporter": "python",
   "pygments_lexer": "ipython3",
   "version": "3.11.7"
  }
 },
 "nbformat": 4,
 "nbformat_minor": 5
}
