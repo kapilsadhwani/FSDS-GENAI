{
 "cells": [
  {
   "cell_type": "markdown",
   "id": "342fc3ba-6802-42d9-988d-6a0b8e29eec6",
   "metadata": {
    "editable": true,
    "slideshow": {
     "slide_type": ""
    },
    "tags": []
   },
   "source": [
    "# Assignment 2 - Lists"
   ]
  },
  {
   "cell_type": "markdown",
   "id": "cf9ee8b4-13d1-4815-aee7-2776ca104358",
   "metadata": {
    "editable": true,
    "slideshow": {
     "slide_type": ""
    },
    "tags": []
   },
   "source": [
    "### Program to print sum of all the items in a list"
   ]
  },
  {
   "cell_type": "code",
   "execution_count": 28,
   "id": "fd43909a-67ce-4ed8-8f78-1c80508a2662",
   "metadata": {
    "editable": true,
    "slideshow": {
     "slide_type": ""
    },
    "tags": []
   },
   "outputs": [
    {
     "name": "stdin",
     "output_type": "stream",
     "text": [
      "Enter list of numbers separated by comma (Ex: 10 20):  1 3 6 \n"
     ]
    },
    {
     "name": "stdout",
     "output_type": "stream",
     "text": [
      "The sum of all the items in the list is 10.0\n"
     ]
    }
   ],
   "source": [
    "try:\n",
    "    userInput = input(\"Enter list of numbers separated by space (Ex: 10 20):\")\n",
    "    nums = userInput.strip().split(' ')\n",
    "    sum = 0\n",
    "\n",
    "    for num in nums:\n",
    "        sum += float(num.strip())\n",
    "    print(f\"The sum of all the items in the list is {sum}\")\n",
    "except ValueError:\n",
    "    print(\"Invalid input. Please try again...\")"
   ]
  },
  {
   "cell_type": "code",
   "execution_count": null,
   "id": "9628fa90-fa1c-4021-988a-851ae042c7a2",
   "metadata": {},
   "outputs": [],
   "source": []
  },
  {
   "cell_type": "markdown",
   "id": "664e209d-f4f3-44d1-a0b3-b0de032c473d",
   "metadata": {},
   "source": [
    "### Program to find the largest number in a list"
   ]
  },
  {
   "cell_type": "code",
   "execution_count": 41,
   "id": "2167c6a3-7172-4e93-88f1-2bb47780db98",
   "metadata": {},
   "outputs": [
    {
     "name": "stdin",
     "output_type": "stream",
     "text": [
      "Enter list of numbers separated by space (Ex: 10 20): 11 5 6 5\n"
     ]
    },
    {
     "name": "stdout",
     "output_type": "stream",
     "text": [
      "The largest number is 11.0\n"
     ]
    }
   ],
   "source": [
    "try:\n",
    "    userInput = input(\"Enter list of numbers separated by space (Ex: 10 20):\")\n",
    "    nums = userInput.strip().split(' ')\n",
    "    maxNum = float(nums[0].strip())\n",
    "\n",
    "    for num in nums:\n",
    "        currNum = float(num.strip())\n",
    "        if (currNum > maxNum):\n",
    "            maxNum = currNum\n",
    "    print(f\"The largest number is {maxNum}\")\n",
    "except ValueError:\n",
    "    print(\"Invalid input. Please try again...\")"
   ]
  },
  {
   "cell_type": "code",
   "execution_count": null,
   "id": "6c308690-c2be-4c8e-bb59-cf99a372fde6",
   "metadata": {},
   "outputs": [],
   "source": []
  },
  {
   "cell_type": "markdown",
   "id": "730d28cb-0c8a-4bb1-8d7b-119df40b5885",
   "metadata": {},
   "source": [
    "### Program to print duplicates, if present, in a list"
   ]
  },
  {
   "cell_type": "code",
   "execution_count": 49,
   "id": "1d3249ff-94c7-4ca6-9a85-d9114b1bab5b",
   "metadata": {
    "editable": true,
    "slideshow": {
     "slide_type": ""
    },
    "tags": []
   },
   "outputs": [
    {
     "name": "stdin",
     "output_type": "stream",
     "text": [
      "Enter list of numbers separated by space (Ex: 10 20): 1 2 3 2 1 2 3 2 1 2 3 2 1 \n"
     ]
    },
    {
     "name": "stdout",
     "output_type": "stream",
     "text": [
      "Found duplicates: [2.0, 1.0, 3.0]\n"
     ]
    }
   ],
   "source": [
    "try:\n",
    "    userInput = input(\"Enter list of numbers separated by space (Ex: 10 20):\")\n",
    "    userList = userInput.strip().split(' ')\n",
    "    nums = []\n",
    "    dupList = []\n",
    "\n",
    "    for num in userList:\n",
    "        currNum = float(num.strip())\n",
    "        if (currNum in nums):\n",
    "            if (currNum not in dupList): \n",
    "                dupList.append(currNum) # Set would have been better but using whatever is taught so far\n",
    "        else:\n",
    "            nums.append(currNum)\n",
    "\n",
    "    if (len(dupList) > 0):\n",
    "        print(f\"Found duplicates: {dupList}\")\n",
    "    else:\n",
    "        print(f\"There are no duplicates in the list: {nums}\")\n",
    "except ValueError:\n",
    "    print(\"Invalid input. Please try again...\")"
   ]
  },
  {
   "cell_type": "code",
   "execution_count": null,
   "id": "d5d6c9d4-33be-4841-bd1b-ec55471fe677",
   "metadata": {},
   "outputs": [],
   "source": []
  },
  {
   "cell_type": "markdown",
   "id": "aaa732f8-677e-4fba-acb1-7c4d3bbd928b",
   "metadata": {
    "editable": true,
    "slideshow": {
     "slide_type": ""
    },
    "tags": []
   },
   "source": [
    "### Program to print index of an element, if present, in a list"
   ]
  },
  {
   "cell_type": "code",
   "execution_count": 57,
   "id": "2923a159-c69d-4af3-8bbd-7ead37efb01f",
   "metadata": {},
   "outputs": [
    {
     "name": "stdin",
     "output_type": "stream",
     "text": [
      "Enter list of numbers separated by space (Ex: 10 20): 4\n",
      "Enter value to be searched: 4\n"
     ]
    },
    {
     "name": "stdout",
     "output_type": "stream",
     "text": [
      "Element 4.0 found at index: [0]\n"
     ]
    }
   ],
   "source": [
    "try:\n",
    "    userInput = input(\"Enter list of numbers separated by space (Ex: 10 20):\")\n",
    "    findElem = float(input(\"Enter value to be searched:\").strip())\n",
    "    nums = userInput.strip().split(' ')\n",
    "    indexList = []\n",
    "\n",
    "    for i in range(len(nums)):\n",
    "        currNum = float(nums[i].strip())\n",
    "        if (currNum == findElem):\n",
    "            indexList.append(i) # Store all indices where element was seen\n",
    "\n",
    "    if (len(indexList) > 0):\n",
    "        print(f\"Element {findElem} found at index: {indexList}\")\n",
    "    else:\n",
    "        print(f\"Element {findElem} not found in the list {nums}\")\n",
    "except ValueError:\n",
    "    print(\"Invalid input. Please try again...\")"
   ]
  },
  {
   "cell_type": "code",
   "execution_count": null,
   "id": "fe7c6528-66a9-4cde-9dbe-7309a9b5b6b7",
   "metadata": {},
   "outputs": [],
   "source": []
  }
 ],
 "metadata": {
  "kernelspec": {
   "display_name": "Python 3 (ipykernel)",
   "language": "python",
   "name": "python3"
  },
  "language_info": {
   "codemirror_mode": {
    "name": "ipython",
    "version": 3
   },
   "file_extension": ".py",
   "mimetype": "text/x-python",
   "name": "python",
   "nbconvert_exporter": "python",
   "pygments_lexer": "ipython3",
   "version": "3.11.7"
  }
 },
 "nbformat": 4,
 "nbformat_minor": 5
}
